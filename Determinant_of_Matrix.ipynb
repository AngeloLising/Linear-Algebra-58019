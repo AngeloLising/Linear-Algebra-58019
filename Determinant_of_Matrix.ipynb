{
  "nbformat": 4,
  "nbformat_minor": 0,
  "metadata": {
    "colab": {
      "name": "Determinant of Matrix",
      "provenance": [],
      "authorship_tag": "ABX9TyP60rLzVRgrfvA9jW1Yf/Kp",
      "include_colab_link": true
    },
    "kernelspec": {
      "name": "python3",
      "display_name": "Python 3"
    },
    "language_info": {
      "name": "python"
    }
  },
  "cells": [
    {
      "cell_type": "markdown",
      "metadata": {
        "id": "view-in-github",
        "colab_type": "text"
      },
      "source": [
        "<a href=\"https://colab.research.google.com/github/AngeloLising/Linear-Algebra-58020/blob/main/Determinant_of_Matrix.ipynb\" target=\"_parent\"><img src=\"https://colab.research.google.com/assets/colab-badge.svg\" alt=\"Open In Colab\"/></a>"
      ]
    },
    {
      "cell_type": "markdown",
      "metadata": {
        "id": "aED10Qp_fek6"
      },
      "source": [
        "Cofactor Expansion"
      ]
    },
    {
      "cell_type": "code",
      "metadata": {
        "id": "I0vmy9MSHVkB",
        "colab": {
          "base_uri": "https://localhost:8080/"
        },
        "outputId": "38e00872-d001-415a-e965-5875aa4c16ad"
      },
      "source": [
        "import numpy as np\n",
        "A = np.array([[1, 2, -1], [4, 6, 2], [-1, 3, 3]])\n",
        "print(A)\n",
        "print(np.linalg.det(A))\n",
        "print(round(np.linalg.det(A)))"
      ],
      "execution_count": null,
      "outputs": [
        {
          "output_type": "stream",
          "name": "stdout",
          "text": [
            "[[ 1  2 -1]\n",
            " [ 4  6  2]\n",
            " [-1  3  3]]\n",
            "-33.99999999999999\n",
            "-34\n"
          ]
        }
      ]
    }
  ]
}