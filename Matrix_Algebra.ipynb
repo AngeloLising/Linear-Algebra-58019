{
  "nbformat": 4,
  "nbformat_minor": 0,
  "metadata": {
    "colab": {
      "name": "Matrix Algebra",
      "provenance": [],
      "authorship_tag": "ABX9TyPn3KXlvfBcvWVFMvr85B1F",
      "include_colab_link": true
    },
    "kernelspec": {
      "name": "python3",
      "display_name": "Python 3"
    },
    "language_info": {
      "name": "python"
    }
  },
  "cells": [
    {
      "cell_type": "markdown",
      "metadata": {
        "id": "view-in-github",
        "colab_type": "text"
      },
      "source": [
        "<a href=\"https://colab.research.google.com/github/AngeloLising/Linear-Algebra-58020/blob/main/Matrix_Algebra.ipynb\" target=\"_parent\"><img src=\"https://colab.research.google.com/assets/colab-badge.svg\" alt=\"Open In Colab\"/></a>"
      ]
    },
    {
      "cell_type": "markdown",
      "metadata": {
        "id": "J3FmzpkorO_u"
      },
      "source": [
        "Python program inverse and it's tranpose"
      ]
    },
    {
      "cell_type": "markdown",
      "metadata": {
        "id": "jrUgXc9wrW5n"
      },
      "source": [
        "inverse and transpose of 3x3 matrix"
      ]
    },
    {
      "cell_type": "code",
      "metadata": {
        "colab": {
          "base_uri": "https://localhost:8080/"
        },
        "id": "P1tzhrbFrNDi",
        "outputId": "b799a413-cd2c-49f1-b2a4-ed7272fc0c98"
      },
      "source": [
        "import numpy as np #calling numpy\n",
        "A = np.array([[6, 1, 1], [4, -2, 5], [2, 8, 7]])\n",
        "print(A)\n",
        "\n",
        "B = (np.linalg.inv(A)) #inverse of matrix\n",
        "print(B)\n",
        "\n",
        "C = np.transpose(A) #transpose of matrix\n",
        "print(C)"
      ],
      "execution_count": 3,
      "outputs": [
        {
          "output_type": "stream",
          "name": "stdout",
          "text": [
            "[[ 6  1  1]\n",
            " [ 4 -2  5]\n",
            " [ 2  8  7]]\n",
            "[[ 0.17647059 -0.00326797 -0.02287582]\n",
            " [ 0.05882353 -0.13071895  0.08496732]\n",
            " [-0.11764706  0.1503268   0.05228758]]\n",
            "[[ 6  4  2]\n",
            " [ 1 -2  8]\n",
            " [ 1  5  7]]\n"
          ]
        }
      ]
    },
    {
      "cell_type": "markdown",
      "metadata": {
        "id": "tB6tluwWrd-E"
      },
      "source": [
        "inverse and transpose of 4x4 matrix"
      ]
    },
    {
      "cell_type": "code",
      "metadata": {
        "colab": {
          "base_uri": "https://localhost:8080/"
        },
        "id": "yoELGlqSrhun",
        "outputId": "cbb241a2-d45c-49a5-c133-9533daf9768c"
      },
      "source": [
        "import numpy as np #calling numpy\n",
        "A = np.array([[6, 1, 1, 3], [4, -2, 5, 1], [2, 8, 7, 6], [3, 1, 9, 7]])\n",
        "print(A)\n",
        "\n",
        "B = (np.linalg.inv(A)) #inverse of matrix\n",
        "print(B)\n",
        "\n",
        "C = np.transpose(A) #transpose of matrix\n",
        "print(C)"
      ],
      "execution_count": 4,
      "outputs": [
        {
          "output_type": "stream",
          "name": "stdout",
          "text": [
            "[[ 6  1  1  3]\n",
            " [ 4 -2  5  1]\n",
            " [ 2  8  7  6]\n",
            " [ 3  1  9  7]]\n",
            "[[ 0.13368984  0.10695187  0.02139037 -0.09090909]\n",
            " [-0.00229183  0.02673797  0.14820474 -0.12987013]\n",
            " [-0.12987013  0.18181818  0.06493506 -0.02597403]\n",
            " [ 0.11000764 -0.28342246 -0.11382735  0.23376623]]\n",
            "[[ 6  4  2  3]\n",
            " [ 1 -2  8  1]\n",
            " [ 1  5  7  9]\n",
            " [ 3  1  6  7]]\n"
          ]
        }
      ]
    }
  ]
}