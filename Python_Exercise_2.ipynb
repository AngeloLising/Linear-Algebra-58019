{
  "nbformat": 4,
  "nbformat_minor": 0,
  "metadata": {
    "colab": {
      "name": "Python Exercise 2",
      "provenance": [],
      "collapsed_sections": [],
      "authorship_tag": "ABX9TyPGkE434K2A6NLXNzQ2G+x+",
      "include_colab_link": true
    },
    "kernelspec": {
      "name": "python3",
      "display_name": "Python 3"
    },
    "language_info": {
      "name": "python"
    }
  },
  "cells": [
    {
      "cell_type": "markdown",
      "metadata": {
        "id": "view-in-github",
        "colab_type": "text"
      },
      "source": [
        "<a href=\"https://colab.research.google.com/github/AngeloLising/Linear-Algebra-58019/blob/main/Python_Exercise_2.ipynb\" target=\"_parent\"><img src=\"https://colab.research.google.com/assets/colab-badge.svg\" alt=\"Open In Colab\"/></a>"
      ]
    },
    {
      "cell_type": "markdown",
      "metadata": {
        "id": "wzIt1fkh597E"
      },
      "source": [
        "Vector Spaces and It's Operations"
      ]
    },
    {
      "cell_type": "code",
      "metadata": {
        "colab": {
          "base_uri": "https://localhost:8080/"
        },
        "id": "7a-U8vm06BCP",
        "outputId": "fc9692e2-f33b-408a-9d92-0c6152619a1a"
      },
      "source": [
        "import numpy as np\n",
        "A = np.array([4, 3])\n",
        "B = np.array([2, -5])\n",
        "print('Vector A is', A)\n",
        "print('Vector B is', B)"
      ],
      "execution_count": 3,
      "outputs": [
        {
          "output_type": "stream",
          "name": "stdout",
          "text": [
            "Vector A is [4 3]\n",
            "Vector B is [ 2 -5]\n"
          ]
        }
      ]
    },
    {
      "cell_type": "code",
      "metadata": {
        "colab": {
          "base_uri": "https://localhost:8080/"
        },
        "id": "G9kTSV0x7eGV",
        "outputId": "90f44b17-c402-433e-ffc4-b1e6931390aa"
      },
      "source": [
        "# Checking shapes\n",
        "# Shapes tells us how many rows and columns are there\n",
        "ball1 = np.array([1, 2, 3])\n",
        "ball2 = np.array([0, 1, -1])\n",
        "pool = np.array([ball1, ball2])\n",
        "pool.shape\n",
        "pool.size\n",
        "pool.ndim"
      ],
      "execution_count": 10,
      "outputs": [
        {
          "output_type": "execute_result",
          "data": {
            "text/plain": [
              "2"
            ]
          },
          "metadata": {},
          "execution_count": 10
        }
      ]
    },
    {
      "cell_type": "code",
      "metadata": {
        "colab": {
          "base_uri": "https://localhost:8080/"
        },
        "id": "XDZHY5xp81gm",
        "outputId": "6c023d04-f3a7-4433-f404-5ca9b661af8d"
      },
      "source": [
        "# Checking shapes\n",
        "# Shapes tells us how many rows and columns are there\n",
        "ball1 = np.array([1, 2, 3])\n",
        "ball2 = np.array([0, 1, -1])\n",
        "pool = np.array([ball1, ball2])\n",
        "print(pool.shape)\n",
        "print(pool.size)\n",
        "print(pool.ndim)"
      ],
      "execution_count": 12,
      "outputs": [
        {
          "output_type": "stream",
          "name": "stdout",
          "text": [
            "(2, 3)\n",
            "6\n",
            "2\n"
          ]
        }
      ]
    },
    {
      "cell_type": "code",
      "metadata": {
        "colab": {
          "base_uri": "https://localhost:8080/"
        },
        "id": "C90rLThp9nVG",
        "outputId": "19dd15ad-e449-4020-eafd-959fba42e76f"
      },
      "source": [
        "R = A+B \n",
        "print(R)"
      ],
      "execution_count": 13,
      "outputs": [
        {
          "output_type": "stream",
          "name": "stdout",
          "text": [
            "[ 6 -2]\n"
          ]
        }
      ]
    },
    {
      "cell_type": "code",
      "metadata": {
        "colab": {
          "base_uri": "https://localhost:8080/"
        },
        "id": "briRhJQq-4z7",
        "outputId": "e492fdfc-d8e8-43a8-9305-e7aaec2d1dbb"
      },
      "source": [
        "R = np.add(A, B)\n",
        "print(R)"
      ],
      "execution_count": 14,
      "outputs": [
        {
          "output_type": "stream",
          "name": "stdout",
          "text": [
            "[ 6 -2]\n"
          ]
        }
      ]
    },
    {
      "cell_type": "code",
      "metadata": {
        "colab": {
          "base_uri": "https://localhost:8080/"
        },
        "id": "nfGHQxTv_T5M",
        "outputId": "c268a132-f17e-4151-c2fe-0026de95f293"
      },
      "source": [
        "R = np.subtract(A, B)\n",
        "print(R)"
      ],
      "execution_count": 15,
      "outputs": [
        {
          "output_type": "stream",
          "name": "stdout",
          "text": [
            "[2 8]\n"
          ]
        }
      ]
    }
  ]
}