{
  "nbformat": 4,
  "nbformat_minor": 0,
  "metadata": {
    "colab": {
      "name": "Python Exercise 2",
      "provenance": [],
      "collapsed_sections": [],
      "authorship_tag": "ABX9TyNQNBvyfQXaARO9ziavpZ9P",
      "include_colab_link": true
    },
    "kernelspec": {
      "name": "python3",
      "display_name": "Python 3"
    },
    "language_info": {
      "name": "python"
    }
  },
  "cells": [
    {
      "cell_type": "markdown",
      "metadata": {
        "id": "view-in-github",
        "colab_type": "text"
      },
      "source": [
        "<a href=\"https://colab.research.google.com/github/AngeloLising/Linear-Algebra-58020/blob/main/Python_Exercise_2.ipynb\" target=\"_parent\"><img src=\"https://colab.research.google.com/assets/colab-badge.svg\" alt=\"Open In Colab\"/></a>"
      ]
    },
    {
      "cell_type": "markdown",
      "metadata": {
        "id": "wzIt1fkh597E"
      },
      "source": [
        "Vector Spaces and It's Operations"
      ]
    },
    {
      "cell_type": "code",
      "metadata": {
        "colab": {
          "base_uri": "https://localhost:8080/"
        },
        "id": "7a-U8vm06BCP",
        "outputId": "fc9692e2-f33b-408a-9d92-0c6152619a1a"
      },
      "source": [
        "import numpy as np\n",
        "A = np.array([4, 3])\n",
        "B = np.array([2, -5])\n",
        "print('Vector A is', A)\n",
        "print('Vector B is', B)"
      ],
      "execution_count": 3,
      "outputs": [
        {
          "output_type": "stream",
          "name": "stdout",
          "text": [
            "Vector A is [4 3]\n",
            "Vector B is [ 2 -5]\n"
          ]
        }
      ]
    },
    {
      "cell_type": "code",
      "metadata": {
        "colab": {
          "base_uri": "https://localhost:8080/"
        },
        "id": "G9kTSV0x7eGV",
        "outputId": "90f44b17-c402-433e-ffc4-b1e6931390aa"
      },
      "source": [
        "# Checking shapes\n",
        "# Shapes tells us how many rows and columns are there\n",
        "ball1 = np.array([1, 2, 3])\n",
        "ball2 = np.array([0, 1, -1])\n",
        "pool = np.array([ball1, ball2])\n",
        "pool.shape\n",
        "pool.size\n",
        "pool.ndim"
      ],
      "execution_count": 10,
      "outputs": [
        {
          "output_type": "execute_result",
          "data": {
            "text/plain": [
              "2"
            ]
          },
          "metadata": {},
          "execution_count": 10
        }
      ]
    },
    {
      "cell_type": "code",
      "metadata": {
        "colab": {
          "base_uri": "https://localhost:8080/"
        },
        "id": "XDZHY5xp81gm",
        "outputId": "6c023d04-f3a7-4433-f404-5ca9b661af8d"
      },
      "source": [
        "# Checking shapes\n",
        "# Shapes tells us how many rows and columns are there\n",
        "ball1 = np.array([1, 2, 3])\n",
        "ball2 = np.array([0, 1, -1])\n",
        "pool = np.array([ball1, ball2])\n",
        "print(pool.shape)\n",
        "print(pool.size)\n",
        "print(pool.ndim)"
      ],
      "execution_count": 12,
      "outputs": [
        {
          "output_type": "stream",
          "name": "stdout",
          "text": [
            "(2, 3)\n",
            "6\n",
            "2\n"
          ]
        }
      ]
    },
    {
      "cell_type": "markdown",
      "metadata": {
        "id": "x5UivDgkAqWU"
      },
      "source": [
        "Vector Addition"
      ]
    },
    {
      "cell_type": "code",
      "metadata": {
        "colab": {
          "base_uri": "https://localhost:8080/"
        },
        "id": "C90rLThp9nVG",
        "outputId": "19dd15ad-e449-4020-eafd-959fba42e76f"
      },
      "source": [
        "R = A+B \n",
        "print(R)"
      ],
      "execution_count": 13,
      "outputs": [
        {
          "output_type": "stream",
          "name": "stdout",
          "text": [
            "[ 6 -2]\n"
          ]
        }
      ]
    },
    {
      "cell_type": "code",
      "metadata": {
        "colab": {
          "base_uri": "https://localhost:8080/"
        },
        "id": "briRhJQq-4z7",
        "outputId": "e492fdfc-d8e8-43a8-9305-e7aaec2d1dbb"
      },
      "source": [
        "R = np.add(A, B)\n",
        "print(R)"
      ],
      "execution_count": 14,
      "outputs": [
        {
          "output_type": "stream",
          "name": "stdout",
          "text": [
            "[ 6 -2]\n"
          ]
        }
      ]
    },
    {
      "cell_type": "markdown",
      "metadata": {
        "id": "XckB2OKIAzfL"
      },
      "source": [
        "Vector Subtraction"
      ]
    },
    {
      "cell_type": "code",
      "metadata": {
        "colab": {
          "base_uri": "https://localhost:8080/"
        },
        "id": "nfGHQxTv_T5M",
        "outputId": "c268a132-f17e-4151-c2fe-0026de95f293"
      },
      "source": [
        "R = np.subtract(A, B)\n",
        "print(R)"
      ],
      "execution_count": 15,
      "outputs": [
        {
          "output_type": "stream",
          "name": "stdout",
          "text": [
            "[2 8]\n"
          ]
        }
      ]
    },
    {
      "cell_type": "markdown",
      "metadata": {
        "id": "A-cElS6ZBMkE"
      },
      "source": [
        "Vector Scaling"
      ]
    },
    {
      "cell_type": "code",
      "metadata": {
        "colab": {
          "base_uri": "https://localhost:8080/"
        },
        "id": "Sx2hlZsGBEg1",
        "outputId": "d4113916-15ea-4691-beab-e163775feac1"
      },
      "source": [
        "A = np.array([1, 5, 8, 9])\n",
        "S = 5*A\n",
        "print(S)"
      ],
      "execution_count": 18,
      "outputs": [
        {
          "output_type": "stream",
          "name": "stdout",
          "text": [
            "[ 5 25 40 45]\n"
          ]
        }
      ]
    },
    {
      "cell_type": "code",
      "metadata": {
        "colab": {
          "base_uri": "https://localhost:8080/"
        },
        "id": "xQt8nSmlBYns",
        "outputId": "272f742d-97b6-4df1-cf5d-cf93507c0882"
      },
      "source": [
        "S = np.multiply(5, A)\n",
        "print(S)"
      ],
      "execution_count": 19,
      "outputs": [
        {
          "output_type": "stream",
          "name": "stdout",
          "text": [
            "[ 5 25 40 45]\n"
          ]
        }
      ]
    },
    {
      "cell_type": "markdown",
      "metadata": {
        "id": "zmoFy16BCyK-"
      },
      "source": [
        "Vector cross product"
      ]
    },
    {
      "cell_type": "code",
      "metadata": {
        "colab": {
          "base_uri": "https://localhost:8080/"
        },
        "id": "RG4KuxztCHNZ",
        "outputId": "28f2fc1c-61fc-445a-d9bf-ed7dfce12f87"
      },
      "source": [
        "#initialize arrays\n",
        "A = np.array([2, 3,])\n",
        "B = np.array([1, 7,])\n",
        "\n",
        "#compute cross product\n",
        "output = np.cross(A, B)\n",
        "print(output)"
      ],
      "execution_count": 22,
      "outputs": [
        {
          "output_type": "stream",
          "name": "stdout",
          "text": [
            "11\n"
          ]
        }
      ]
    },
    {
      "cell_type": "code",
      "metadata": {
        "colab": {
          "base_uri": "https://localhost:8080/"
        },
        "id": "UewdMm75Dc2o",
        "outputId": "e8a8f299-8ca0-42d3-c9c7-f8cbaf95d534"
      },
      "source": [
        "#initialize arrays\n",
        "A = np.array([2, 3, 4])\n",
        "B = np.array([1, 7, 0])\n",
        "\n",
        "#compute cross product\n",
        "output = np.cross(A, B)\n",
        "print(output)"
      ],
      "execution_count": 23,
      "outputs": [
        {
          "output_type": "stream",
          "name": "stdout",
          "text": [
            "[-28   4  11]\n"
          ]
        }
      ]
    },
    {
      "cell_type": "code",
      "metadata": {
        "colab": {
          "base_uri": "https://localhost:8080/"
        },
        "id": "ATssN-L_D6Z-",
        "outputId": "ec52bac5-bfe6-4ae5-f2a4-9c0a54eb2a67"
      },
      "source": [
        "#compute for the dot product of A and B\n",
        "output = np.dot(A, B)\n",
        "print(output)"
      ],
      "execution_count": 25,
      "outputs": [
        {
          "output_type": "stream",
          "name": "stdout",
          "text": [
            "23\n"
          ]
        }
      ]
    },
    {
      "cell_type": "code",
      "metadata": {
        "colab": {
          "base_uri": "https://localhost:8080/"
        },
        "id": "U2ty1Q8UE4ae",
        "outputId": "7fafa839-0c2e-4ed2-b021-1309a55b901a"
      },
      "source": [
        "#initialize arrays\n",
        "A = np.array([2, 7])\n",
        "B = np.array([1, 7])\n",
        "\n",
        "#compute cross product\n",
        "output = np.cross(A, B)\n",
        "print(output)"
      ],
      "execution_count": 26,
      "outputs": [
        {
          "output_type": "stream",
          "name": "stdout",
          "text": [
            "7\n"
          ]
        }
      ]
    },
    {
      "cell_type": "code",
      "metadata": {
        "colab": {
          "base_uri": "https://localhost:8080/"
        },
        "id": "lH44EMmHE960",
        "outputId": "e48bb6eb-942f-4fce-e06c-9ddb55abe48f"
      },
      "source": [
        "#compute for the dot product of A and B\n",
        "output = np.dot(A, B)\n",
        "print(output)"
      ],
      "execution_count": 27,
      "outputs": [
        {
          "output_type": "stream",
          "name": "stdout",
          "text": [
            "51\n"
          ]
        }
      ]
    }
  ]
}