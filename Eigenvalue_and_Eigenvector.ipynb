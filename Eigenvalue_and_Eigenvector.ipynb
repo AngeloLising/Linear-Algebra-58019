{
  "nbformat": 4,
  "nbformat_minor": 0,
  "metadata": {
    "colab": {
      "name": "Eigenvalue and Eigenvector",
      "provenance": [],
      "authorship_tag": "ABX9TyOJRjegezSofS4RRyeAmxS1",
      "include_colab_link": true
    },
    "kernelspec": {
      "name": "python3",
      "display_name": "Python 3"
    },
    "language_info": {
      "name": "python"
    }
  },
  "cells": [
    {
      "cell_type": "markdown",
      "metadata": {
        "id": "view-in-github",
        "colab_type": "text"
      },
      "source": [
        "<a href=\"https://colab.research.google.com/github/AngeloLising/Linear-Algebra-58020/blob/main/Eigenvalue_and_Eigenvector.ipynb\" target=\"_parent\"><img src=\"https://colab.research.google.com/assets/colab-badge.svg\" alt=\"Open In Colab\"/></a>"
      ]
    },
    {
      "cell_type": "code",
      "metadata": {
        "colab": {
          "base_uri": "https://localhost:8080/"
        },
        "id": "ogpFqP9XdKOm",
        "outputId": "6c40eee4-b235-49d3-c782-463633b4bf69"
      },
      "source": [
        "import numpy as np\n",
        "from scipy.linalg import solve\n",
        "from scipy.linalg import eig\n",
        "\n",
        "A = np.array([[-12, 3], [4, 1]])\n",
        "print(A)\n",
        "\n",
        "inv_A = np.linalg.inv(A)\n",
        "print(inv_A)\n",
        "\n",
        "B = np.array([[0], [0]])\n",
        "\n",
        "X = np.dot(inv_A, B)\n",
        "print(X)\n",
        "\n",
        "#or\n",
        "#Y = solve(A, B)\n",
        "#print(Y)"
      ],
      "execution_count": 27,
      "outputs": [
        {
          "output_type": "stream",
          "name": "stdout",
          "text": [
            "[[-12   3]\n",
            " [  4   1]]\n",
            "[[-0.04166667  0.125     ]\n",
            " [ 0.16666667  0.5       ]]\n",
            "[[0.]\n",
            " [0.]]\n"
          ]
        }
      ]
    },
    {
      "cell_type": "markdown",
      "metadata": {
        "id": "0KeHLSdbtIZO"
      },
      "source": [
        "Example1"
      ]
    },
    {
      "cell_type": "code",
      "metadata": {
        "colab": {
          "base_uri": "https://localhost:8080/"
        },
        "id": "3ggEnDaNp7go",
        "outputId": "a2c2fed5-b580-4cd6-9e18-e099b6766d45"
      },
      "source": [
        "A = np.array([[-6, 3], [4, 5]])\n",
        "print(A)\n",
        "\n",
        "w,v = np.linalg.eig(A)\n",
        "print(\"The eigenvalues are:\",w)\n",
        "print(\"The right eigenvectors are:\" ,v)\n",
        "X = np.round(w)\n",
        "print(X)\n",
        "Y = np.round(v)\n",
        "print(Y)"
      ],
      "execution_count": 36,
      "outputs": [
        {
          "output_type": "stream",
          "name": "stdout",
          "text": [
            "[[-6  3]\n",
            " [ 4  5]]\n",
            "The eigenvalues are: [-7.  6.]\n",
            "The right eigenvectors are: [[-0.9486833  -0.24253563]\n",
            " [ 0.31622777 -0.9701425 ]]\n",
            "[-7.  6.]\n",
            "[[-1. -0.]\n",
            " [ 0. -1.]]\n"
          ]
        }
      ]
    },
    {
      "cell_type": "markdown",
      "metadata": {
        "id": "i1LnwAzdtOpD"
      },
      "source": [
        "Example 2"
      ]
    },
    {
      "cell_type": "code",
      "metadata": {
        "colab": {
          "base_uri": "https://localhost:8080/"
        },
        "id": "9V2SsmqZtP8w",
        "outputId": "438a5790-c50c-429d-a640-55a3aafc538e"
      },
      "source": [
        "A = np.array([[2, 2, 4], [1, 3, 5], [2, 3, 4]])\n",
        "print(A)\n",
        "\n",
        "y,z = np.linalg.eig(A)\n",
        "print(\"The eigenvalues are:\" ,y)\n",
        "print(\"The eigenvectors are:\" ,z)\n",
        "X = np.round(y)\n",
        "print(X)\n",
        "Y = np.round(z)\n",
        "print(Y)\n",
        "\n",
        "B = np.dot(A, Y)\n",
        "print(B.round())"
      ],
      "execution_count": 54,
      "outputs": [
        {
          "output_type": "stream",
          "name": "stdout",
          "text": [
            "[[2 2 4]\n",
            " [1 3 5]\n",
            " [2 3 4]]\n",
            "The eigenvalues are: [ 8.80916362  0.92620912 -0.73537273]\n",
            "The eigenvectors are: [[-0.52799324 -0.77557092 -0.36272811]\n",
            " [-0.604391    0.62277013 -0.7103262 ]\n",
            " [-0.59660259 -0.10318482  0.60321224]]\n",
            "[ 9.  1. -1.]\n",
            "[[-1. -1. -0.]\n",
            " [-1.  1. -1.]\n",
            " [-1. -0.  1.]]\n",
            "[[-8.  0.  2.]\n",
            " [-9.  2.  2.]\n",
            " [-9.  1.  1.]]\n"
          ]
        }
      ]
    },
    {
      "cell_type": "code",
      "metadata": {
        "colab": {
          "base_uri": "https://localhost:8080/"
        },
        "id": "OZV4Q7FGxyCu",
        "outputId": "71d75b5a-ac5c-4ca0-e86b-4b7f6a7f6777"
      },
      "source": [
        "D = np.array([[-1], [-1], [-1]])\n",
        "print(D)\n",
        "\n",
        "E = np.dot(A, D)\n",
        "print(E)"
      ],
      "execution_count": 55,
      "outputs": [
        {
          "output_type": "stream",
          "name": "stdout",
          "text": [
            "[[-1]\n",
            " [-1]\n",
            " [-1]]\n",
            "[[-8]\n",
            " [-9]\n",
            " [-9]]\n"
          ]
        }
      ]
    }
  ]
}