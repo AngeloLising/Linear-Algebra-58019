{
  "nbformat": 4,
  "nbformat_minor": 0,
  "metadata": {
    "colab": {
      "name": "Python Exercise 3",
      "provenance": [],
      "authorship_tag": "ABX9TyMVJeEa5Ji/NZ6pU5vVSTLE",
      "include_colab_link": true
    },
    "kernelspec": {
      "name": "python3",
      "display_name": "Python 3"
    },
    "language_info": {
      "name": "python"
    }
  },
  "cells": [
    {
      "cell_type": "markdown",
      "metadata": {
        "id": "view-in-github",
        "colab_type": "text"
      },
      "source": [
        "<a href=\"https://colab.research.google.com/github/AngeloLising/Linear-Algebra-58020/blob/main/Python_Exercise_3.ipynb\" target=\"_parent\"><img src=\"https://colab.research.google.com/assets/colab-badge.svg\" alt=\"Open In Colab\"/></a>"
      ]
    },
    {
      "cell_type": "markdown",
      "metadata": {
        "id": "a12uofINi9hO"
      },
      "source": [
        "Linear Transformation"
      ]
    },
    {
      "cell_type": "markdown",
      "metadata": {
        "id": "AofHlsOAjUSn"
      },
      "source": [
        "Equation 1: x1 + x2 + x3 = 5\n",
        "\n",
        "Equation 2: x1 + 2x2 + 2x3 = 6\n",
        "\n",
        "Equation 3: x1 + 2x2 + 3x3 = 8"
      ]
    },
    {
      "cell_type": "code",
      "metadata": {
        "colab": {
          "base_uri": "https://localhost:8080/"
        },
        "id": "krpoRoINi7J7",
        "outputId": "a286e661-20e3-4f25-825a-ccea8ff6b66a"
      },
      "source": [
        "import numpy as np \n",
        "A = np.array([[1, 1, 1], [1, 2, 2], [1, 2, 3]])\n",
        "print(A)\n",
        "\n",
        "inv_A = np.linalg.inv(A) #Inverse of A\n",
        "print(inv_A)\n",
        "\n",
        "B = np.array([[5], [6], [8]])\n",
        "print(B)\n",
        "\n",
        "X = np.dot(inv_A, B) #Dot Product of Inverse of A and Variable B\n",
        "print(X)\n",
        "\n",
        "#Checking\n",
        "X1 = np.array([4])\n",
        "X2 = np.array([-1])\n",
        "X3 = np.array([2])\n",
        "\n",
        "#Equation 1\n",
        "Equa1 = X1 + X2 + X3 \n",
        "print(Equa1)\n",
        "\n",
        "#Equation 2\n",
        "x2 = 2 * X2\n",
        "x3 = 2 * X3\n",
        "Equa2 = X1 + x2 + x3\n",
        "print(Equa2)\n",
        "\n",
        "#Equation 3\n",
        "xx3 = 3 * X3\n",
        "Equa3 = X1 + x2 + xx3\n",
        "print(Equa3)"
      ],
      "execution_count": 27,
      "outputs": [
        {
          "output_type": "stream",
          "name": "stdout",
          "text": [
            "[[1 1 1]\n",
            " [1 2 2]\n",
            " [1 2 3]]\n",
            "[[ 2. -1.  0.]\n",
            " [-1.  2. -1.]\n",
            " [ 0. -1.  1.]]\n",
            "[[5]\n",
            " [6]\n",
            " [8]]\n",
            "[[ 4.]\n",
            " [-1.]\n",
            " [ 2.]]\n",
            "[5]\n",
            "[6]\n",
            "[8]\n"
          ]
        }
      ]
    }
  ]
}