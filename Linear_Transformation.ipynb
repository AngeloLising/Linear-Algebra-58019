{
  "nbformat": 4,
  "nbformat_minor": 0,
  "metadata": {
    "colab": {
      "name": "Linear Transformation",
      "provenance": [],
      "authorship_tag": "ABX9TyNuN6ykSd7KcF2rdZTCN5h1",
      "include_colab_link": true
    },
    "kernelspec": {
      "name": "python3",
      "display_name": "Python 3"
    },
    "language_info": {
      "name": "python"
    }
  },
  "cells": [
    {
      "cell_type": "markdown",
      "metadata": {
        "id": "view-in-github",
        "colab_type": "text"
      },
      "source": [
        "<a href=\"https://colab.research.google.com/github/AngeloLising/Linear-Algebra-58020/blob/main/Linear_Transformation.ipynb\" target=\"_parent\"><img src=\"https://colab.research.google.com/assets/colab-badge.svg\" alt=\"Open In Colab\"/></a>"
      ]
    },
    {
      "cell_type": "code",
      "metadata": {
        "colab": {
          "base_uri": "https://localhost:8080/"
        },
        "id": "RTS37pb2bRRQ",
        "outputId": "2f29b754-b040-4feb-a796-02587b6c6a75"
      },
      "source": [
        "import numpy as np\n",
        "A = np.array([[4, 10, 8], [10, 26, 26], [8, 26, 61]])\n",
        "print(A)\n",
        "inv_A=np.linalg.inv(A) #Inverse of A\n",
        "print(inv_A)\n",
        "\n",
        "B = np.array([[44], [128], [214]])\n",
        "print(B)\n",
        "\n",
        "#AA^-1X = B.A^-1\n",
        "X = np.dot(inv_A, B) #Dot Product of Inverse of A and Variable B\n",
        "print(X)"
      ],
      "execution_count": 8,
      "outputs": [
        {
          "output_type": "stream",
          "name": "stdout",
          "text": [
            "[[ 4 10  8]\n",
            " [10 26 26]\n",
            " [ 8 26 61]]\n",
            "[[ 25.27777778 -11.16666667   1.44444444]\n",
            " [-11.16666667   5.          -0.66666667]\n",
            " [  1.44444444  -0.66666667   0.11111111]]\n",
            "[[ 44]\n",
            " [128]\n",
            " [214]]\n",
            "[[-8.]\n",
            " [ 6.]\n",
            " [ 2.]]\n"
          ]
        }
      ]
    }
  ]
}