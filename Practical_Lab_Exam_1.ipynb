{
  "nbformat": 4,
  "nbformat_minor": 0,
  "metadata": {
    "colab": {
      "name": "Practical Lab Exam 1",
      "provenance": [],
      "authorship_tag": "ABX9TyPysrEhL1MmIg+jN/ydu5I0",
      "include_colab_link": true
    },
    "kernelspec": {
      "name": "python3",
      "display_name": "Python 3"
    },
    "language_info": {
      "name": "python"
    }
  },
  "cells": [
    {
      "cell_type": "markdown",
      "metadata": {
        "id": "view-in-github",
        "colab_type": "text"
      },
      "source": [
        "<a href=\"https://colab.research.google.com/github/AngeloLising/Linear-Algebra-58020/blob/main/Practical_Lab_Exam_1.ipynb\" target=\"_parent\"><img src=\"https://colab.research.google.com/assets/colab-badge.svg\" alt=\"Open In Colab\"/></a>"
      ]
    },
    {
      "cell_type": "markdown",
      "metadata": {
        "id": "HqMtr9oDT2iK"
      },
      "source": [
        "Practical Lab Exam 1"
      ]
    },
    {
      "cell_type": "markdown",
      "metadata": {
        "id": "B3YecMikT3Eh"
      },
      "source": [
        "Problem 1"
      ]
    },
    {
      "cell_type": "code",
      "metadata": {
        "id": "ThmEnAnET8W1"
      },
      "source": [
        "import numpy as np\n",
        "W = np.array([[1, -3], [2, -2], [3, 1]])\n",
        "X = np.array([[3, 2, 1], [-1 ,2 ,3], [2, -1, 1]])\n",
        "Y = np.array([[1, 2, 0], [0, -1, 2]])\n",
        "Z = np.array([[0, 1], [2, 3]])"
      ],
      "execution_count": 2,
      "outputs": []
    },
    {
      "cell_type": "markdown",
      "metadata": {
        "id": "OgC42bGAULPl"
      },
      "source": [
        "a. WY"
      ]
    },
    {
      "cell_type": "code",
      "metadata": {
        "colab": {
          "base_uri": "https://localhost:8080/"
        },
        "id": "YvrBMe65T89d",
        "outputId": "0cc69cf5-8d22-4f51-edce-07c5bfae7f0b"
      },
      "source": [
        "a = np.dot(W, Y)\n",
        "print(a)"
      ],
      "execution_count": 3,
      "outputs": [
        {
          "output_type": "stream",
          "name": "stdout",
          "text": [
            "[[ 1  5 -6]\n",
            " [ 2  6 -4]\n",
            " [ 3  5  2]]\n"
          ]
        }
      ]
    },
    {
      "cell_type": "markdown",
      "metadata": {
        "id": "KELTOuDKUPLl"
      },
      "source": [
        "b. Z+Z"
      ]
    },
    {
      "cell_type": "code",
      "metadata": {
        "colab": {
          "base_uri": "https://localhost:8080/"
        },
        "id": "olmAz00KUSOW",
        "outputId": "ba1b2366-0340-4b21-9355-d4c60fec3e0d"
      },
      "source": [
        "b = np.add(Z, Z)\n",
        "print(b)"
      ],
      "execution_count": 4,
      "outputs": [
        {
          "output_type": "stream",
          "name": "stdout",
          "text": [
            "[[0 2]\n",
            " [4 6]]\n"
          ]
        }
      ]
    },
    {
      "cell_type": "markdown",
      "metadata": {
        "id": "gE9Mcow4UV2l"
      },
      "source": [
        "c.3X"
      ]
    },
    {
      "cell_type": "code",
      "metadata": {
        "colab": {
          "base_uri": "https://localhost:8080/"
        },
        "id": "11XAL6HBUVgF",
        "outputId": "2f2cc06a-1944-404c-ab13-bf1591b3d44e"
      },
      "source": [
        "c = np.multiply(3, X)\n",
        "print(c)"
      ],
      "execution_count": 5,
      "outputs": [
        {
          "output_type": "stream",
          "name": "stdout",
          "text": [
            "[[ 9  6  3]\n",
            " [-3  6  9]\n",
            " [ 6 -3  3]]\n"
          ]
        }
      ]
    },
    {
      "cell_type": "markdown",
      "metadata": {
        "id": "QSxfrO4pUc1l"
      },
      "source": [
        "Problem 2"
      ]
    },
    {
      "cell_type": "markdown",
      "metadata": {
        "id": "IQjLzOL6Uepe"
      },
      "source": [
        "a. The product of (YW)^2 is not defined"
      ]
    },
    {
      "cell_type": "code",
      "metadata": {
        "colab": {
          "base_uri": "https://localhost:8080/"
        },
        "id": "GST4EnvcUgsd",
        "outputId": "3efacf84-3965-4233-8486-48754957e0df"
      },
      "source": [
        "#Solution\n",
        "yw = np.dot(Y,W)\n",
        "\n",
        "output = np.multiply(yw, yw)\n",
        "print(output)\n",
        "\n",
        "#Answer\n",
        "print(\"False\")"
      ],
      "execution_count": 12,
      "outputs": [
        {
          "output_type": "stream",
          "name": "stdout",
          "text": [
            "[[25 49]\n",
            " [16 16]]\n",
            "True\n"
          ]
        }
      ]
    },
    {
      "cell_type": "markdown",
      "metadata": {
        "id": "sgfeYECVVJUI"
      },
      "source": [
        "b. WY – X "
      ]
    },
    {
      "cell_type": "code",
      "metadata": {
        "colab": {
          "base_uri": "https://localhost:8080/"
        },
        "id": "m-N_otpDVKw-",
        "outputId": "7e83d0c6-5508-44be-af96-92790386d723"
      },
      "source": [
        "#Solution\n",
        "b = np.subtract(a, X)\n",
        "print(b)\n",
        "\n",
        "#Answer\n",
        "print(\"True\")"
      ],
      "execution_count": 16,
      "outputs": [
        {
          "output_type": "stream",
          "name": "stdout",
          "text": [
            "[[-2  3 -7]\n",
            " [ 3  4 -7]\n",
            " [ 1  6  1]]\n",
            "True\n"
          ]
        }
      ]
    },
    {
      "cell_type": "markdown",
      "metadata": {
        "id": "xYVRFPz3VbuV"
      },
      "source": [
        "YW – Z^2"
      ]
    },
    {
      "cell_type": "code",
      "metadata": {
        "colab": {
          "base_uri": "https://localhost:8080/"
        },
        "id": "SWlzPwZQVrrt",
        "outputId": "6545b1b8-96d7-4ead-839e-1cd6b1b791bb"
      },
      "source": [
        "#Solution\n",
        "yw = np.dot(Y,W)\n",
        "z2 = np.multiply(Z,Z)\n",
        "\n",
        "c = yw - z2\n",
        "print(c)\n",
        "\n",
        "#Answer\n",
        "print(\"False\")"
      ],
      "execution_count": 20,
      "outputs": [
        {
          "output_type": "stream",
          "name": "stdout",
          "text": [
            "[[ 5 -8]\n",
            " [ 0 -5]]\n",
            "False\n"
          ]
        }
      ]
    }
  ]
}