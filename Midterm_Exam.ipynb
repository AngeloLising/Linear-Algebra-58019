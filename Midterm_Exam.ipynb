{
  "nbformat": 4,
  "nbformat_minor": 0,
  "metadata": {
    "colab": {
      "name": "Midterm Exam",
      "provenance": [],
      "authorship_tag": "ABX9TyNh6Ry848LZD2Lswexve7+t",
      "include_colab_link": true
    },
    "kernelspec": {
      "name": "python3",
      "display_name": "Python 3"
    },
    "language_info": {
      "name": "python"
    }
  },
  "cells": [
    {
      "cell_type": "markdown",
      "metadata": {
        "id": "view-in-github",
        "colab_type": "text"
      },
      "source": [
        "<a href=\"https://colab.research.google.com/github/AngeloLising/Linear-Algebra-58020/blob/main/Midterm_Exam.ipynb\" target=\"_parent\"><img src=\"https://colab.research.google.com/assets/colab-badge.svg\" alt=\"Open In Colab\"/></a>"
      ]
    },
    {
      "cell_type": "markdown",
      "metadata": {
        "id": "zb6H75iK3wLS"
      },
      "source": [
        "Midterm Exam"
      ]
    },
    {
      "cell_type": "markdown",
      "metadata": {
        "id": "Itq9pL8A35d5"
      },
      "source": [
        "Question 1: Create a Python code that displays a square matrix whose length is 5 "
      ]
    },
    {
      "cell_type": "code",
      "metadata": {
        "colab": {
          "base_uri": "https://localhost:8080/"
        },
        "id": "4_PFXUlT3mc3",
        "outputId": "5052af68-b412-4efb-c23b-64fa03124d37"
      },
      "source": [
        "import numpy as np #calling numpy \n",
        "A = np.array([[1, 2, 3, 4, 5], #initialize array for 5x5 matrix\n",
        "              [6, 7, 8, 9, 10],\n",
        "              [11, 12, 13, 14, 15],\n",
        "              [16, 17, 18, 19, 20],\n",
        "              [21, 22, 23, 24, 25]])\n",
        "print(A) #display matrix"
      ],
      "execution_count": 20,
      "outputs": [
        {
          "output_type": "stream",
          "name": "stdout",
          "text": [
            "[[ 1  2  3  4  5]\n",
            " [ 6  7  8  9 10]\n",
            " [11 12 13 14 15]\n",
            " [16 17 18 19 20]\n",
            " [21 22 23 24 25]]\n"
          ]
        }
      ]
    },
    {
      "cell_type": "markdown",
      "metadata": {
        "id": "GwIujzsV4mvI"
      },
      "source": [
        "Question 2: Create a Python code that displays a square matrix whose elements below the principal diagonal are zero"
      ]
    },
    {
      "cell_type": "code",
      "metadata": {
        "colab": {
          "base_uri": "https://localhost:8080/"
        },
        "id": "fJsy135a4sLw",
        "outputId": "404bad5a-e7f4-4dee-9321-97d4a2b98ac8"
      },
      "source": [
        "B = np.array([[1, 2, 3], [0, 5, 6], [0, 0, 9]]) #initialize arrays \n",
        "print(B) #print arrays"
      ],
      "execution_count": 29,
      "outputs": [
        {
          "output_type": "stream",
          "name": "stdout",
          "text": [
            "[[1 2 3]\n",
            " [0 5 6]\n",
            " [0 0 9]]\n"
          ]
        }
      ]
    },
    {
      "cell_type": "markdown",
      "metadata": {
        "id": "JXc87LmT4sb1"
      },
      "source": [
        "Question 3: Create a Python code that displays a square matrix which is symmetrical"
      ]
    },
    {
      "cell_type": "code",
      "metadata": {
        "colab": {
          "base_uri": "https://localhost:8080/"
        },
        "id": "8jF60KTY4wIo",
        "outputId": "2fb49d7a-223b-46d8-9867-9660fac6dc2e"
      },
      "source": [
        "D = np.array([[1, 1, 1], [1, 1, 2], [1, 2, 3]]) #initialize arrays\n",
        "print (D) #display arrays\n",
        "\n",
        "#checking for symmetrical\n",
        "E = np.transpose(D) #transpose of matrix \n",
        "print(E) #display transpose"
      ],
      "execution_count": 26,
      "outputs": [
        {
          "output_type": "stream",
          "name": "stdout",
          "text": [
            "[[1 1 1]\n",
            " [1 1 2]\n",
            " [1 2 3]]\n",
            "[[1 1 1]\n",
            " [1 1 2]\n",
            " [1 2 3]]\n"
          ]
        }
      ]
    },
    {
      "cell_type": "markdown",
      "metadata": {
        "id": "t_oOM4G-4wsi"
      },
      "source": [
        "Question 4: What is the inverse of matrix C?\n",
        "\n",
        "1 2 3 \n",
        "\n",
        "2 3 3 \n",
        "\n",
        "3 4 -2"
      ]
    },
    {
      "cell_type": "code",
      "metadata": {
        "colab": {
          "base_uri": "https://localhost:8080/"
        },
        "id": "LroJLYhl438J",
        "outputId": "00f32f6a-e78d-4fce-e33b-1062df167240"
      },
      "source": [
        "C = np.array([[1, 2, 3], [2, 3, 3], [3, 4, -2]]) #initialize arrays\n",
        "print (C) #display arrays\n",
        "\n",
        "inv_C = (np.linalg.inv(C)) #inverse of matrix C\n",
        "print (inv_C) #display inverse of matrix C"
      ],
      "execution_count": 11,
      "outputs": [
        {
          "output_type": "stream",
          "name": "stdout",
          "text": [
            "[[ 1  2  3]\n",
            " [ 2  3  3]\n",
            " [ 3  4 -2]]\n",
            "[[-3.6  3.2 -0.6]\n",
            " [ 2.6 -2.2  0.6]\n",
            " [-0.2  0.4 -0.2]]\n"
          ]
        }
      ]
    },
    {
      "cell_type": "markdown",
      "metadata": {
        "id": "tUcmK0iX44LI"
      },
      "source": [
        "Question 5: What is the determinant of the given matrix in Question 4?"
      ]
    },
    {
      "cell_type": "code",
      "metadata": {
        "colab": {
          "base_uri": "https://localhost:8080/"
        },
        "id": "d_XKYVwM48Wc",
        "outputId": "bb96eab4-6f4a-4a29-c4e2-31151621494f"
      },
      "source": [
        "print(np.linalg.det(C)) #finding the determinant of matrix C\n",
        "print(round(np.linalg.det(C))) #rounding off determinant"
      ],
      "execution_count": 9,
      "outputs": [
        {
          "output_type": "stream",
          "name": "stdout",
          "text": [
            "5.000000000000001\n",
            "5\n"
          ]
        }
      ]
    },
    {
      "cell_type": "markdown",
      "metadata": {
        "id": "EAP1xp2X48ij"
      },
      "source": [
        "Question 6: Find the roots of the linear equations\n",
        "\n",
        "5X1 + 4X2 + X3 = 3.4\n",
        "\n",
        "10X1 + 9X2 + 4X3 = 8.8\n",
        "\n",
        "10X1 + 13X2 + 15X3 = 19.2"
      ]
    },
    {
      "cell_type": "code",
      "metadata": {
        "colab": {
          "base_uri": "https://localhost:8080/"
        },
        "id": "vrB576va5DZr",
        "outputId": "cba9cd62-fa17-45e2-afb9-c697267b789b"
      },
      "source": [
        "X = np.array([[5, 4, 1], [10, 9, 4], [10, 13, 15]]) #initialize arrays\n",
        "print(X) #display arrays\n",
        "\n",
        "inv_X = np.linalg.inv(X) #inverse of X\n",
        "print(inv_X) #display inverse of X\n",
        "\n",
        "Y = np.array([[3.4], [8.8], [19.2]]) #initialize arrays for Y\n",
        "print(Y) #display arrays of Y\n",
        "\n",
        "Z = np.dot(inv_A, B) #dot product of Inverse of X and arrays of Y\n",
        "print(Z) #display dot product"
      ],
      "execution_count": 27,
      "outputs": [
        {
          "output_type": "stream",
          "name": "stdout",
          "text": [
            "[[ 5  4  1]\n",
            " [10  9  4]\n",
            " [10 13 15]]\n",
            "[[ 5.53333333 -3.13333333  0.46666667]\n",
            " [-7.33333333  4.33333333 -0.66666667]\n",
            " [ 2.66666667 -1.66666667  0.33333333]]\n",
            "[[ 3.4]\n",
            " [ 8.8]\n",
            " [19.2]]\n",
            "[[0.2]\n",
            " [0.4]\n",
            " [0.8]]\n"
          ]
        }
      ]
    }
  ]
}